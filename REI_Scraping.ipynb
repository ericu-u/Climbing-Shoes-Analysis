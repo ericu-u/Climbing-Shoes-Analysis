{
 "cells": [
  {
   "cell_type": "code",
   "execution_count": 184,
   "metadata": {},
   "outputs": [
    {
     "name": "stdout",
     "output_type": "stream",
     "text": [
      "The sql extension is already loaded. To reload it, use:\n",
      "  %reload_ext sql\n"
     ]
    }
   ],
   "source": [
    "# Import necessary packages for webscraping and data collection\n",
    "import bs4\n",
    "import requests\n",
    "from bs4 import BeautifulSoup\n",
    "import pandas as pd\n",
    "import numpy as np\n",
    "import json\n",
    "\n",
    "# Load SQL extension\n",
    "%load_ext sql\n",
    "\n",
    "# Matplot frontend\n",
    "%matplotlib inline"
   ]
  },
  {
   "cell_type": "code",
   "execution_count": 38,
   "metadata": {},
   "outputs": [],
   "source": [
    "df = pd.DataFrame()"
   ]
  },
  {
   "cell_type": "code",
   "execution_count": 39,
   "metadata": {},
   "outputs": [],
   "source": [
    "page_link = 'https://www.rei.com/c/climbing-shoes?page='"
   ]
  },
  {
   "cell_type": "code",
   "execution_count": 40,
   "metadata": {},
   "outputs": [],
   "source": [
    "def scrape_page_link(link):\n",
    "    '''Parses an REI page link and returns a list of individual product links'''\n",
    "    req = requests.get(link)\n",
    "    soup = bs4.BeautifulSoup(req.text, 'html.parser')\n",
    "    \n",
    "    product_lst = soup.find_all('a', {'class': '_1A-arB0CEJjk5iTZIRpjPs'})\n",
    "    \n",
    "    links = []\n",
    "    for product in product_lst[::2]:\n",
    "        links.append('https://www.rei.com/' + product['href'])\n",
    "    \n",
    "    return links"
   ]
  },
  {
   "cell_type": "code",
   "execution_count": 41,
   "metadata": {},
   "outputs": [],
   "source": [
    "num = 1\n",
    "link = page_link + str(num)\n",
    "ind_links = []\n",
    "\n",
    "while requests.get(link).status_code != 404:\n",
    "    ind_links.extend(scrape_page_link(link))\n",
    "    num = num + 1\n",
    "    link = page_link + str(num)"
   ]
  },
  {
   "cell_type": "code",
   "execution_count": 229,
   "metadata": {},
   "outputs": [
    {
     "data": {
      "text/plain": [
       "131"
      ]
     },
     "execution_count": 229,
     "metadata": {},
     "output_type": "execute_result"
    }
   ],
   "source": [
    "# Reference the listed number of products on REI site to check\n",
    "len(ind_links)"
   ]
  },
  {
   "cell_type": "code",
   "execution_count": 233,
   "metadata": {},
   "outputs": [],
   "source": [
    "def scrape_ind_link(link):\n",
    "    '''Parses an REI shoe link and returns a list of the shoe's features.'''\n",
    "    req = requests.get(link)\n",
    "    soup = bs4.BeautifulSoup(req.text, 'html.parser')\n",
    "    \n",
    "    product_dict = {}\n",
    "    \n",
    "    if 'rei-garage' in link:\n",
    "        all_info = soup.find('script', {'id': 'page-data'})\n",
    "        json_product = json.loads(all_info.get_text())['product']['specifications']\n",
    "        \n",
    "        if 'reviewsSummary' in json.loads(all_info.get_text())['product']:\n",
    "            reviews_dict = {'reviewsSummary': json.loads(all_info.get_text())['product']['reviewsSummary']}\n",
    "        else:\n",
    "            reviews_dict = {'reviewsSummary': {}}\n",
    "        \n",
    "        json_product.update(reviews_dict)\n",
    "        product_name = json.loads(all_info.get_text())['product']['title']\n",
    "        \n",
    "    else:\n",
    "        product_info = soup.find('script', {'data-client-store': 'product-details'})\n",
    "        product_name = soup.find('script', {'data-client-store': 'product-metadata'})\n",
    "\n",
    "        json_product = json.loads(product_info.get_text())\n",
    "        product_name = json.loads(product_name.get_text())['title']\n",
    "                \n",
    "    for spec in json_product['specs']:\n",
    "        product_dict[spec['name']] = spec['values']\n",
    "        \n",
    "        if 'overall' in json_product['reviewsSummary'].keys():\n",
    "            product_dict['review_count'] = json_product['reviewsSummary']['total']\n",
    "            product_dict['average_rating'] = json_product['reviewsSummary']['overall']\n",
    "            product_dict['ratings_histogram'] = json_product['reviewsSummary']['ratingHistogram']\n",
    "        else:\n",
    "            product_dict['review_count'] = 0\n",
    "            product_dict['average_rating'] = np.nan\n",
    "            product_dict['ratings_histogram'] = np.nan\n",
    "    \n",
    "    '''\n",
    "    print(json_product['reviewsSummary'])\n",
    "    \n",
    "    product_dict['average_rating'] = json_rating['averageRating']\n",
    "    product_dict['review_count'] = json_rating['reviewCount']\n",
    "    product_dict['price'] = json_rating['displayPrice']\n",
    "    product_dict['climbing_types'] = json_product['specs'][0]['values'][0]\n",
    "    product_dict['difficulty'] = json_product['specs'][1]['values'][0]\n",
    "    product_dict['last'] = json_product['specs'][2]['values'][0]\n",
    "    product_dict['upper_material'] = json_product['specs'][3]['values'][0]\n",
    "    product_dict['lining'] = json_product['specs'][4]['values'][0]\n",
    "    product_dict['outsole'] = json_product['specs'][5]['values'][0]\n",
    "    product_dict['lace_type'] = json_product['specs'][6]['values'][0]\n",
    "    product_dict['resolability'] = json_product['specs'][7]['values'][0]\n",
    "    product_dict['gender'] = json_product['specs'][8]['values'][0]\n",
    "    product_dict['weight'] = json_product['specs'][9]['values'][0]\n",
    "    product_dict['brand'] = json_product['brand']\n",
    "    '''\n",
    "    \n",
    "    return {product_name: product_dict}"
   ]
  },
  {
   "cell_type": "code",
   "execution_count": 234,
   "metadata": {},
   "outputs": [],
   "source": [
    "shoes_dict = {}\n",
    "for link in ind_links:\n",
    "    shoes_dict.update(scrape_ind_link(link))"
   ]
  },
  {
   "cell_type": "code",
   "execution_count": 235,
   "metadata": {},
   "outputs": [
    {
     "data": {
      "text/plain": [
       "{'Best Use': ['Rock Climbing'],\n",
       " 'review_count': 15,\n",
       " 'average_rating': 4.4,\n",
       " 'ratings_histogram': {'1': 0, '2': 0, '3': 2, '4': 5, '5': 8},\n",
       " 'Climbing Shoe Type': ['Neutral'],\n",
       " 'Last': ['Slip-lasted'],\n",
       " 'Upper': ['Leather/synthetic leather'],\n",
       " 'Lining': ['No'],\n",
       " 'Outsole': ['FriXion RS rubber'],\n",
       " 'Footwear Closure': ['Lace-up'],\n",
       " 'Can Be Resoled': ['Yes'],\n",
       " 'Gender': ['Unisex'],\n",
       " 'Weight (Pair)': ['1 lb. 2.3 oz.']}"
      ]
     },
     "execution_count": 235,
     "metadata": {},
     "output_type": "execute_result"
    }
   ],
   "source": [
    "# Check to make sure it collected data properly\n",
    "shoes_dict['Tarantulace Climbing Shoes']"
   ]
  },
  {
   "cell_type": "code",
   "execution_count": 236,
   "metadata": {},
   "outputs": [],
   "source": [
    "# Convert to json file\n",
    "with open('data.json', 'w') as fp:\n",
    "    json.dump(shoes_dict, fp)"
   ]
  },
  {
   "cell_type": "code",
   "execution_count": null,
   "metadata": {},
   "outputs": [],
   "source": []
  }
 ],
 "metadata": {
  "kernelspec": {
   "display_name": "Python 3",
   "language": "python",
   "name": "python3"
  },
  "language_info": {
   "codemirror_mode": {
    "name": "ipython",
    "version": 3
   },
   "file_extension": ".py",
   "mimetype": "text/x-python",
   "name": "python",
   "nbconvert_exporter": "python",
   "pygments_lexer": "ipython3",
   "version": "3.7.6"
  }
 },
 "nbformat": 4,
 "nbformat_minor": 4
}
