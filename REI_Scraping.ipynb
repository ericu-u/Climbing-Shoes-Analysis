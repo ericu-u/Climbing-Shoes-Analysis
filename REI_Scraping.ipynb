{
 "cells": [
  {
   "cell_type": "markdown",
   "metadata": {},
   "source": [
    "Name: Eric Wang\n",
    "\n",
    "Project Name: REI Climbing Shoes Web Scraping\n",
    "\n",
    "Hello! This notebook was used to generate a json file for use in UCSD's DSC106 - Intro to Data Visualization course's final project."
   ]
  },
  {
   "cell_type": "code",
   "execution_count": 1,
   "metadata": {},
   "outputs": [],
   "source": [
    "# Import necessary packages for webscraping and data collection\n",
    "import bs4\n",
    "import requests\n",
    "from bs4 import BeautifulSoup\n",
    "import pandas as pd\n",
    "import numpy as np\n",
    "import json\n",
    "\n",
    "# Load SQL extension\n",
    "%load_ext sql\n",
    "\n",
    "# Matplot frontend\n",
    "%matplotlib inline"
   ]
  },
  {
   "cell_type": "code",
   "execution_count": 2,
   "metadata": {},
   "outputs": [],
   "source": [
    "# Set base page link\n",
    "page_link = 'https://www.rei.com/c/climbing-shoes?page='"
   ]
  },
  {
   "cell_type": "code",
   "execution_count": 3,
   "metadata": {},
   "outputs": [],
   "source": [
    "def scrape_page_link(link):\n",
    "    '''Parses an REI page link and returns a list of individual product links'''\n",
    "    req = requests.get(link)\n",
    "    soup = bs4.BeautifulSoup(req.text, 'html.parser')\n",
    "    \n",
    "    product_lst = soup.find_all('a', {'class': '_1A-arB0CEJjk5iTZIRpjPs'})\n",
    "    \n",
    "    links = []\n",
    "    for product in product_lst[::2]:\n",
    "        links.append('https://www.rei.com/' + product['href'])\n",
    "    \n",
    "    return links"
   ]
  },
  {
   "cell_type": "code",
   "execution_count": 4,
   "metadata": {},
   "outputs": [],
   "source": [
    "num = 1\n",
    "link = page_link + str(num)\n",
    "ind_links = []\n",
    "\n",
    "# Extracts individual shoe link on each page of the catalog\n",
    "while requests.get(link).status_code != 404:\n",
    "    ind_links.extend(scrape_page_link(link))\n",
    "    num = num + 1\n",
    "    link = page_link + str(num)"
   ]
  },
  {
   "cell_type": "code",
   "execution_count": 5,
   "metadata": {},
   "outputs": [
    {
     "data": {
      "text/plain": [
       "132"
      ]
     },
     "execution_count": 5,
     "metadata": {},
     "output_type": "execute_result"
    }
   ],
   "source": [
    "# Reference the listed number of products on REI site to make sure we got them all\n",
    "len(ind_links)"
   ]
  },
  {
   "cell_type": "markdown",
   "metadata": {},
   "source": [
    "Going through the list of links, I noticed a few of the urls containing \"rei-garage\" weren't being scraped properly because their page elements were a different format. Because of this, I added the case in the scraping function, and we're all set!"
   ]
  },
  {
   "cell_type": "code",
   "execution_count": 6,
   "metadata": {},
   "outputs": [],
   "source": [
    "def scrape_ind_link(link):\n",
    "    '''Parses an REI shoe link and returns a list of the shoe's features.'''\n",
    "    req = requests.get(link)\n",
    "    soup = bs4.BeautifulSoup(req.text, 'html.parser')\n",
    "    \n",
    "    product_dict = {}\n",
    "    \n",
    "    if 'rei-garage' in link:\n",
    "        all_info = soup.find('script', {'id': 'page-data'})\n",
    "        json_product = json.loads(all_info.get_text())['product']['specifications']\n",
    "                \n",
    "        if 'reviewsSummary' in json.loads(all_info.get_text())['product']:\n",
    "            reviews_dict = {'reviewsSummary': json.loads(all_info.get_text())['product']['reviewsSummary']}\n",
    "        else:\n",
    "            reviews_dict = {'reviewsSummary': {}}\n",
    "        \n",
    "        json_product.update(reviews_dict)\n",
    "        product_name = json.loads(all_info.get_text())['product']['title']\n",
    "        \n",
    "        product_dict['price'] = json.loads(all_info.get_text())['product']['displayPrice']['min']\n",
    "        \n",
    "        product_dict['features'] = json.loads(all_info.get_text())['product']['features']\n",
    "        \n",
    "    else:\n",
    "        product_info = soup.find('script', {'data-client-store': 'product-details'})\n",
    "        product_name = soup.find('script', {'data-client-store': 'product-metadata'})\n",
    "        product_price = soup.find('script', {'data-client-store': 'product-price-data'})\n",
    "        \n",
    "        json_product = json.loads(product_info.get_text())\n",
    "        product_name = json.loads(product_name.get_text())['title']\n",
    "        json_price = json.loads(product_price.get_text())\n",
    "    \n",
    "        product_dict['price'] = json_price['compareAt']\n",
    "        product_dict['features'] = json_product['features']\n",
    "    \n",
    "    for spec in json_product['specs']:\n",
    "        product_dict[spec['name']] = spec['values']\n",
    "        \n",
    "        if 'overall' in json_product['reviewsSummary'].keys():\n",
    "            product_dict['review_count'] = json_product['reviewsSummary']['total']\n",
    "            product_dict['average_rating'] = json_product['reviewsSummary']['overall']\n",
    "            product_dict['ratings_histogram'] = json_product['reviewsSummary']['ratingHistogram']\n",
    "        else:\n",
    "            product_dict['review_count'] = 0\n",
    "            product_dict['average_rating'] = 'NaN'\n",
    "            product_dict['ratings_histogram'] = 'NaN'\n",
    "    \n",
    "    return {product_name: product_dict}"
   ]
  },
  {
   "cell_type": "code",
   "execution_count": 7,
   "metadata": {},
   "outputs": [
    {
     "data": {
      "text/plain": [
       "{\"Scarpa Crux Approach Shoes - Men's\": {'price': 89.73,\n",
       "  'features': [\"Tackle slabby scrambles, loose talus and rugged descents with confidence in the men's Scarpa Crux approach shoes. They boast sticky outsoles and ample support and protection.\",\n",
       "   'Durable suede uppers with lace-to-toe design offer a performance fit',\n",
       "   'Full-coverage rubber toe rands provide abrasion resistance and protection',\n",
       "   'Vibram® Megagrip outsoles supply excellent traction'],\n",
       "  'Best Use': ['Hiking'],\n",
       "  'review_count': 2,\n",
       "  'average_rating': 5.0,\n",
       "  'ratings_histogram': {'1': 0, '2': 0, '3': 0, '4': 0, '5': 2},\n",
       "  'Upper': ['Suede/polyester mesh'],\n",
       "  'Lining': ['Polyester'],\n",
       "  'Midsole': ['2D EVA-MP'],\n",
       "  'Outsole': ['Vibram Vertical Approach Megagrip rubber'],\n",
       "  'Can Be Resoled': ['Yes'],\n",
       "  'Footwear Height': ['Ankle'],\n",
       "  'Footwear Closure': ['Lace-up'],\n",
       "  'Weight (Pair)': ['1 lb. 10.8 oz.'],\n",
       "  'Gender': [\"Men's\"]}}"
      ]
     },
     "execution_count": 7,
     "metadata": {},
     "output_type": "execute_result"
    }
   ],
   "source": [
    "# Test it out on an rei-garage case\n",
    "scrape_ind_link('https://www.rei.com//rei-garage/product/189841/scarpa-crux-approach-shoes-mens')"
   ]
  },
  {
   "cell_type": "code",
   "execution_count": null,
   "metadata": {},
   "outputs": [],
   "source": [
    "shoes_dict = {}\n",
    "\n",
    "# Loop through links and store in shoes_dict dictionary\n",
    "for link in ind_links:\n",
    "    shoes_dict.update(scrape_ind_link(link))"
   ]
  },
  {
   "cell_type": "code",
   "execution_count": null,
   "metadata": {},
   "outputs": [],
   "source": [
    "# Check to make sure it collected data properly\n",
    "shoes_dict['Tarantulace Climbing Shoes']"
   ]
  },
  {
   "cell_type": "code",
   "execution_count": null,
   "metadata": {},
   "outputs": [],
   "source": [
    "# Convert to json file called data.json\n",
    "with open('data.json', 'w') as fp:\n",
    "    json.dump(shoes_dict, fp)"
   ]
  },
  {
   "cell_type": "code",
   "execution_count": null,
   "metadata": {},
   "outputs": [],
   "source": [
    "# DataFrame format\n",
    "df = pd.DataFrame.from_dict(shoes_dict, orient='index')\n",
    "df.head()"
   ]
  }
 ],
 "metadata": {
  "kernelspec": {
   "display_name": "Python 3",
   "language": "python",
   "name": "python3"
  },
  "language_info": {
   "codemirror_mode": {
    "name": "ipython",
    "version": 3
   },
   "file_extension": ".py",
   "mimetype": "text/x-python",
   "name": "python",
   "nbconvert_exporter": "python",
   "pygments_lexer": "ipython3",
   "version": "3.7.6"
  }
 },
 "nbformat": 4,
 "nbformat_minor": 4
}
